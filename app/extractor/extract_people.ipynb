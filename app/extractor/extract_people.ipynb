{
 "cells": [
  {
   "cell_type": "code",
   "execution_count": 4,
   "metadata": {},
   "outputs": [],
   "source": [
    "import pandas as pd\n",
    "import pandas as pd\n",
    "from app.extractor.settings import path_files\n"
   ]
  },
  {
   "cell_type": "code",
   "execution_count": 2,
   "metadata": {},
   "outputs": [
    {
     "name": "stdout",
     "output_type": "stream",
     "text": [
      "ola mundo\n"
     ]
    }
   ],
   "source": [
    "print('ola mundo')"
   ]
  },
  {
   "cell_type": "code",
   "execution_count": 8,
   "metadata": {},
   "outputs": [],
   "source": [
    "### Importando a base de dados a primeira vez\n",
    "df = pd.read_csv('C:/Users/odair/submodules_example/people_submodules_example/app/src/people_submodules_example.csv',sep=';',encoding='utf-8')"
   ]
  },
  {
   "cell_type": "code",
   "execution_count": 9,
   "metadata": {},
   "outputs": [
    {
     "name": "stdout",
     "output_type": "stream",
     "text": [
      "<class 'pandas.core.frame.DataFrame'>\n",
      "RangeIndex: 23456 entries, 0 to 23455\n",
      "Data columns (total 15 columns):\n",
      " #   Column                        Non-Null Count  Dtype \n",
      "---  ------                        --------------  ----- \n",
      " 0   CNPJ                          23456 non-null  int64 \n",
      " 1   Razão Social                  23456 non-null  object\n",
      " 2   Código da categoria           23456 non-null  int64 \n",
      " 3   Descrição da categoria        23456 non-null  object\n",
      " 4   Código da atividade           23456 non-null  int64 \n",
      " 5   Descrição da atividade        23456 non-null  object\n",
      " 6   Data de início da atividade   23456 non-null  object\n",
      " 7   Data de término da atividade  2161 non-null   object\n",
      " 8   Município                     23456 non-null  object\n",
      " 9   Estado                        23456 non-null  object\n",
      " 10  UF                            23456 non-null  object\n",
      " 11  Latitude                      23456 non-null  object\n",
      " 12  Longitude                     23456 non-null  object\n",
      " 13  Situação cadastral            23456 non-null  object\n",
      " 14  Última Atualização Relatório  23456 non-null  object\n",
      "dtypes: int64(3), object(12)\n",
      "memory usage: 2.7+ MB\n"
     ]
    }
   ],
   "source": [
    "df.info()"
   ]
  },
  {
   "cell_type": "code",
   "execution_count": 22,
   "metadata": {},
   "outputs": [
    {
     "name": "stdout",
     "output_type": "stream",
     "text": [
      "<class 'pandas.core.frame.DataFrame'>\n",
      "RangeIndex: 23456 entries, 0 to 23455\n",
      "Data columns (total 3 columns):\n",
      " #   Column         Non-Null Count  Dtype \n",
      "---  ------         --------------  ----- \n",
      " 0   municipio      23456 non-null  object\n",
      " 1   estado         23456 non-null  object\n",
      " 2   cod_atividade  23456 non-null  int64 \n",
      "dtypes: int64(1), object(2)\n",
      "memory usage: 549.9+ KB\n"
     ]
    }
   ],
   "source": [
    "df = df.rename(columns={ 'Município':'municipio',\n",
    "                    'Estado':'estado',\n",
    "                    'Código da atividade':'cod_atividade'\n",
    "                })\n",
    "df.info()"
   ]
  },
  {
   "cell_type": "code",
   "execution_count": 20,
   "metadata": {},
   "outputs": [
    {
     "name": "stdout",
     "output_type": "stream",
     "text": [
      "<class 'pandas.core.frame.DataFrame'>\n",
      "RangeIndex: 23456 entries, 0 to 23455\n",
      "Data columns (total 3 columns):\n",
      " #   Column         Non-Null Count  Dtype \n",
      "---  ------         --------------  ----- \n",
      " 0   municipio      23456 non-null  object\n",
      " 1   estado         23456 non-null  object\n",
      " 2   cod_atividade  23456 non-null  int64 \n",
      "dtypes: int64(1), object(2)\n",
      "memory usage: 549.9+ KB\n"
     ]
    }
   ],
   "source": [
    "df = df[['municipio','estado','cod_atividade']]\n",
    "df.info()"
   ]
  }
 ],
 "metadata": {
  "kernelspec": {
   "display_name": "Python 3",
   "language": "python",
   "name": "python3"
  },
  "language_info": {
   "codemirror_mode": {
    "name": "ipython",
    "version": 3
   },
   "file_extension": ".py",
   "mimetype": "text/x-python",
   "name": "python",
   "nbconvert_exporter": "python",
   "pygments_lexer": "ipython3",
   "version": "3.10.5"
  },
  "orig_nbformat": 4,
  "vscode": {
   "interpreter": {
    "hash": "d9286bcc71b341eb7bf03b39f6f067fbd6b659cb96bd4826540065a29b4c6540"
   }
  }
 },
 "nbformat": 4,
 "nbformat_minor": 2
}
